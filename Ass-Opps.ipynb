{
 "cells": [
  {
   "cell_type": "markdown",
   "id": "2b24c950-d35c-44e8-b65c-1418820cf606",
   "metadata": {},
   "source": [
    "Q1. Explain Class and Object with respect to Object-Oriented Programming. Give a suitable example."
   ]
  },
  {
   "cell_type": "markdown",
   "id": "ac6a6e30-fb89-4378-9eb7-125701257bb7",
   "metadata": {},
   "source": [
    "a class in OOP serves as a blueprint that defines the structure and behavior of objects. An object, on the other hand, is an instance of a class, representing a real-world entity with its own unique data and ability to interact with other objects. By creating and using classes and objects, you can model complex systems, improve code organization, and achieve code reusability in your programs."
   ]
  },
  {
   "cell_type": "markdown",
   "id": "e5db5d67-4236-4f1e-913f-464e93933a35",
   "metadata": {},
   "source": [
    "Q2. Name the four pillars of OOPs."
   ]
  },
  {
   "cell_type": "markdown",
   "id": "5ccccdf7-8a5c-4f0f-b54e-bbd0c0b6f8ff",
   "metadata": {},
   "source": [
    "The four pillars of Object-Oriented Programming (OOP) are:\n",
    "\n",
    "Encapsulation:\n",
    "Encapsulation is the process of bundling data (attributes) and the methods (functions) that operate on that data within a single unit called a class. It hides the internal implementation details of the class from the outside world and provides access to the data through methods. This way, encapsulation promotes data security and allows the class to have control over how the data is accessed and modified.\n",
    "\n",
    "Abstraction:\n",
    "Abstraction is the process of simplifying complex real-world entities by representing only the essential features while hiding unnecessary details. It allows you to create abstract classes and abstract methods that serve as templates for other classes to implement. Abstraction helps in building a clear and modular code structure, promoting code reusability, and making the code easier to understand and maintain.\n",
    "\n",
    "Inheritance:\n",
    "Inheritance is the mechanism that allows a class (derived or child class) to inherit attributes and methods from another class (base or parent class). It promotes code reusability, as the derived class can reuse the functionality of the base class without having to rewrite it. Inheritance is essential in object-oriented programming because it helps in creating a hierarchical structure of classes and models real-world relationships effectively.\n",
    "\n",
    "Polymorphism:\n",
    "Polymorphism is the ability of a class to take on multiple forms or the ability of different classes to be treated as objects of the same base class. It allows you to use a single interface (method or function) to represent different data types or classes. Polymorphism can be achieved through method overloading and method overriding. It simplifies code implementation and makes it more flexible to handle various data types or class objects.\n",
    "\n",
    "These four pillars form the foundation of object-oriented programming and are essential for designing efficient, scalable, and maintainable software systems. Each pillar addresses specific principles and practices that contribute to the effectiveness and versatility of object-oriented programming paradigms.\n",
    "\n",
    "\n",
    "\n",
    "\n",
    "\n",
    "\n"
   ]
  },
  {
   "cell_type": "markdown",
   "id": "329eae5b-95ca-46ef-ba27-77fdd67f8002",
   "metadata": {},
   "source": [
    "Q3. Explain why the __init__() function is used. Give a suitable example."
   ]
  },
  {
   "cell_type": "markdown",
   "id": "33d83d98-64f7-4922-b408-749c13359618",
   "metadata": {},
   "source": [
    "\n",
    "The __init__() function is a special method in Python that is automatically called when an object is created from a class. It is also known as the constructor method. The primary purpose of the __init__() method is to initialize the attributes of the object and perform any setup required for the object to function properly\n"
   ]
  },
  {
   "cell_type": "code",
   "execution_count": 6,
   "id": "bce991a5-75d7-4a88-956e-f65a0a1b5013",
   "metadata": {},
   "outputs": [
    {
     "name": "stdout",
     "output_type": "stream",
     "text": [
      "Hello, my name is simran and I am 18 years old.\n",
      "Hello, my name is nazish and I am 19 years old.\n"
     ]
    }
   ],
   "source": [
    "class Person:\n",
    "    def __init__(self, name, age):\n",
    "        self.name = name\n",
    "        self.age = age\n",
    "\n",
    "    def say_hello(self):\n",
    "        print(f\"Hello, my name is {self.name} and I am {self.age} years old.\")\n",
    "\n",
    "# Creating objects of the Person class\n",
    "person1 = Person(\"simran\", 18)\n",
    "person2 = Person(\"nazish\", 19)\n",
    "\n",
    "# Calling the method of the objects\n",
    "person1.say_hello()\n",
    "# Output: \"Hello, my name is Alice and I am 30 years old.\"\n",
    "\n",
    "person2.say_hello()\n",
    "# Output: \"Hello, my name is Bob and I am 25 years old.\"\n"
   ]
  },
  {
   "cell_type": "markdown",
   "id": "ccc022bf-834d-4cd0-9ece-8051a945f9d0",
   "metadata": {},
   "source": [
    "Q4. Why self is used in OOPs?"
   ]
  },
  {
   "cell_type": "markdown",
   "id": "3b894cc0-86ae-4b29-984a-a5144ff97277",
   "metadata": {},
   "source": [
    "Using self is a fundamental aspect of OOP in Python, and it enables the implementation of encapsulation and the proper functioning of methods and attributes within classes. It ensures that instance-specific data is accessed correctly and makes the code more organized and readable."
   ]
  },
  {
   "cell_type": "markdown",
   "id": "b699b6e6-238d-4f5f-a151-f95b4ec6f59f",
   "metadata": {},
   "source": [
    "Q5. What is inheritance? Give an example for each type of inheritance."
   ]
  },
  {
   "cell_type": "markdown",
   "id": "de3e6315-e3ab-4c13-92c7-e9330bdf1858",
   "metadata": {},
   "source": [
    "Inheritance is a fundamental concept in Object-Oriented Programming (OOP) that allows a class (called the derived class or subclass) to inherit attributes and methods from another class (called the base class or superclass). Inheritance promotes code reusability, as it allows the derived class to reuse the functionality of the base class without having to rewrite it. It enables the creation of a hierarchical structure of classes, modeling real-world relationships effectively."
   ]
  },
  {
   "cell_type": "code",
   "execution_count": 1,
   "id": "fc507451-3c12-4e4f-80f0-742feaea38fa",
   "metadata": {},
   "outputs": [],
   "source": [
    "#single inheritance"
   ]
  },
  {
   "cell_type": "code",
   "execution_count": 13,
   "id": "2f523b68-5c12-4f57-9d88-303f3a9cb4cb",
   "metadata": {},
   "outputs": [],
   "source": [
    "class animal:\n",
    "    def func1(self):\n",
    "        print(\"i am an animal\")\n",
    "class dog(animal):\n",
    "    def func2(self):\n",
    "        print(\"people call me dog\")"
   ]
  },
  {
   "cell_type": "code",
   "execution_count": 18,
   "id": "cc6a4891-fce7-4856-827e-d9c22ccd8344",
   "metadata": {},
   "outputs": [],
   "source": [
    "a=dog()"
   ]
  },
  {
   "cell_type": "code",
   "execution_count": 20,
   "id": "35b25335-e051-42be-aeee-ea21c5f15720",
   "metadata": {},
   "outputs": [
    {
     "name": "stdout",
     "output_type": "stream",
     "text": [
      "i am an animal\n"
     ]
    }
   ],
   "source": [
    "a.func1()"
   ]
  },
  {
   "cell_type": "code",
   "execution_count": 21,
   "id": "22eb26a2-0142-4581-abc3-da37722f9439",
   "metadata": {},
   "outputs": [
    {
     "name": "stdout",
     "output_type": "stream",
     "text": [
      "people call me dog\n"
     ]
    }
   ],
   "source": [
    "a.func2()"
   ]
  },
  {
   "cell_type": "code",
   "execution_count": 22,
   "id": "685c7f9e-b499-4b6f-80f5-f7f3dd425ed5",
   "metadata": {},
   "outputs": [],
   "source": [
    "#multiple inheritance"
   ]
  },
  {
   "cell_type": "code",
   "execution_count": 27,
   "id": "a26d8c89-b54d-4d15-a57c-469689c95143",
   "metadata": {},
   "outputs": [],
   "source": [
    "class a:\n",
    "    def name(self):\n",
    "        n=str((input(\"enter ur name\")))\n",
    "class b:\n",
    "    def classn(self):\n",
    "        n1=str((input(\"enter ur class\"))) \n",
    "class c(a,b):\n",
    "    def sn(self):\n",
    "         print(\"school name : Gl bajaj\")"
   ]
  },
  {
   "cell_type": "code",
   "execution_count": 31,
   "id": "7e30e303-343b-4085-9cee-68873576bde2",
   "metadata": {},
   "outputs": [],
   "source": [
    "cc=c()"
   ]
  },
  {
   "cell_type": "code",
   "execution_count": 32,
   "id": "58dee293-d2a1-4caf-8d3b-57fd08b66848",
   "metadata": {},
   "outputs": [
    {
     "name": "stdin",
     "output_type": "stream",
     "text": [
      "enter ur name simran\n"
     ]
    }
   ],
   "source": [
    "cc.name()"
   ]
  },
  {
   "cell_type": "code",
   "execution_count": 33,
   "id": "2146aee5-86aa-45f0-854b-f96a8ea448d5",
   "metadata": {},
   "outputs": [
    {
     "name": "stdin",
     "output_type": "stream",
     "text": [
      "enter ur class bca\n"
     ]
    }
   ],
   "source": [
    "cc.classn()"
   ]
  },
  {
   "cell_type": "code",
   "execution_count": 34,
   "id": "00f60b88-112b-4696-b27b-6a83b61ec07f",
   "metadata": {},
   "outputs": [
    {
     "name": "stdout",
     "output_type": "stream",
     "text": [
      "school name : Gl bajaj\n"
     ]
    }
   ],
   "source": [
    "cc.sn()"
   ]
  },
  {
   "cell_type": "code",
   "execution_count": 35,
   "id": "3cdaea0e-6954-4e46-922a-2586591b49ee",
   "metadata": {},
   "outputs": [],
   "source": [
    "#multilevel inheritance"
   ]
  },
  {
   "cell_type": "code",
   "execution_count": 36,
   "id": "eee6df75-9eea-4c04-9e16-3ee10f3fe881",
   "metadata": {},
   "outputs": [],
   "source": [
    "class animal_kingdom:\n",
    "    def animal(self):\n",
    "        n=str(input(\"name of animal\"))\n",
    "class sounddd(animal_kingdom):   \n",
    "     def sound(self):\n",
    "        n1=str(input(\"sound it produce \"))\n",
    "class legs(sounddd):\n",
    "    def legs(self):\n",
    "        n2=str(input(\"legs it have\"))\n",
    "        "
   ]
  },
  {
   "cell_type": "code",
   "execution_count": 38,
   "id": "6483f445-43d7-4807-b64b-8a501daedfae",
   "metadata": {},
   "outputs": [],
   "source": [
    "a=legs()"
   ]
  },
  {
   "cell_type": "code",
   "execution_count": 40,
   "id": "9a23c52e-bf6c-4e41-846e-cbf12f1a4b88",
   "metadata": {},
   "outputs": [
    {
     "name": "stdin",
     "output_type": "stream",
     "text": [
      "name of animal dog\n"
     ]
    }
   ],
   "source": [
    "a.animal()"
   ]
  },
  {
   "cell_type": "code",
   "execution_count": 41,
   "id": "c675ca44-4e46-4852-b416-3a0217cc09cc",
   "metadata": {},
   "outputs": [
    {
     "name": "stdin",
     "output_type": "stream",
     "text": [
      "legs it have 4\n"
     ]
    }
   ],
   "source": [
    "a.legs()"
   ]
  },
  {
   "cell_type": "code",
   "execution_count": 42,
   "id": "1ddb6a44-4aeb-423d-ad3d-8685c3a1d28b",
   "metadata": {},
   "outputs": [
    {
     "name": "stdin",
     "output_type": "stream",
     "text": [
      "sound it produce  bark\n"
     ]
    }
   ],
   "source": [
    "a.sound()"
   ]
  },
  {
   "cell_type": "code",
   "execution_count": 43,
   "id": "3373e239-46a5-4a5a-8787-57a50c80e1b6",
   "metadata": {},
   "outputs": [],
   "source": [
    "#hierarical inheritance"
   ]
  },
  {
   "cell_type": "code",
   "execution_count": 44,
   "id": "9a69ceba-7fdb-462e-9481-b45970cd6247",
   "metadata": {},
   "outputs": [],
   "source": [
    "class Animal:\n",
    "    def sound(self):\n",
    "        print(\"Animal makes a sound\")\n",
    "\n",
    "class Dog(Animal):\n",
    "    def bark(self):\n",
    "        print(\"Dog barks\")\n",
    "\n",
    "class Cat(Animal):\n",
    "    def meow(self):\n",
    "        print(\"Cat meows\")\n"
   ]
  },
  {
   "cell_type": "code",
   "execution_count": null,
   "id": "a5bc1795-ba43-412e-a536-2191b919cbd2",
   "metadata": {},
   "outputs": [],
   "source": [
    "d=Dog()"
   ]
  }
 ],
 "metadata": {
  "kernelspec": {
   "display_name": "Python 3 (ipykernel)",
   "language": "python",
   "name": "python3"
  },
  "language_info": {
   "codemirror_mode": {
    "name": "ipython",
    "version": 3
   },
   "file_extension": ".py",
   "mimetype": "text/x-python",
   "name": "python",
   "nbconvert_exporter": "python",
   "pygments_lexer": "ipython3",
   "version": "3.10.8"
  }
 },
 "nbformat": 4,
 "nbformat_minor": 5
}
